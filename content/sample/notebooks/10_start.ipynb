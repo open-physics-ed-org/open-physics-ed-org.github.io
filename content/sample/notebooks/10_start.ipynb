{
 "cells": [
  {
   "cell_type": "markdown",
   "metadata": {},
   "source": [
    "# Week 10 - Chaotic Dynamics"
   ]
  },
  {
   "cell_type": "markdown",
   "metadata": {},
   "source": [
    "[Chaos theory](https://en.wikipedia.org/wiki/Chaos_theory) is a branch of science that focuses on the study of systems that exhibit chaotic behavior. These systems are quite sensitive to their initial conditions, meaning that small changes or even errors in measurements can lead to vastly different outcomes. These systems tend have strange couplings and feedback loops, making them very difficult to predict. These systems are nonlinear, meaning that the mathematical tools we bring to bear are often more sophisticated. And, computing is often required to simulate and understand the behavior of these systems.\n",
    "\n",
    "We will focus on classical chaos, where the systems are [deterministic](https://en.wikipedia.org/wiki/Deterministic_system); they follow specific laws or equations. There is no inherent randomness included in the system. In some cases, folks include [noise](https://en.wikipedia.org/wiki/Noise_(electronics)) in their system, but this is not required for a system to be chaotic. Even though they are fully deterministic, due to their sensitivity to initial conditions, classical chaotic systems can appear random and unpredictable over time. \n",
    "\n",
    "## Characteristics of Chaotic Systems\n",
    "\n",
    "Chaotic systems exhibit several key characteristics that distinguish them from other types of [dynamical systems](https://en.wikipedia.org/wiki/Dynamical_system)\n",
    "\n",
    "### Sensitive Dependence on Initial Conditions\n",
    "\n",
    "One of the hallmark features of chaotic systems is their sensitive dependence on initial conditions. Even tiny differences in the starting state of the system can lead to dramatically different outcomes. While in many cases this means that we cannot predict the long-term behavior of the system, in some cases we can still make accurate short-term predictions. This concept has been abstracted into the popular saying \"a butterfly flapping its wings in Brazil can cause a tornado in Texas,\" illustrating how small changes can have far-reaching effects. But it is true that in weather systems, small changes in atmospheric conditions can result in significantly different weather patterns.\n",
    "\n",
    "### Nonlinearity\n",
    "\n",
    "Chaotic systems are typically [nonlinear](https://en.wikipedia.org/wiki/Nonlinear_system); simple linear equations and the properties of their solutions are not sufficient to describe their behavior. The couplings of different aspects of the system can lead to feedback loops and interactions that are not simply additive. The mathematical equations governing chaotic systems often involve nonlinear functions, and are thus require different tools to analyze. Moreover, these nonlinear behaviors can change dramatically with small changes in the system parameters. These can lead to [bifurcations](https://en.wikipedia.org/wiki/Bifurcation) in the system, where a small change in a parameter can cause a sudden and qualitative change in the system's behavior. This is just another reason why chaotic systems are so difficult to predict and control\n",
    "\n",
    "### Strange Attractors\n",
    "\n",
    "We have seen how systems can have fixed points - both stable and unstable - and we have seen periodic behavior. These are common in many dynamical systems. In our study of the harmonic oscillator, we observed that the system can exhibit periodic behavior when undamped or driven, but we also saw how it can settle to a stable fixed point when damped. As we move to study chaotic systems, we begin to see other kinds of behavior. Systems can have [limit cycles](https://en.wikipedia.org/wiki/Limit_cycle) - periodic orbits that are stable or unstable. Below we show the limit cycle of the [Van der Pol oscillator](https://en.wikipedia.org/wiki/Van_der_Pol_oscillator), \n",
    "\n",
    "![Limit Cycle](../images/notes/week10/640px-VanDerPolPhaseSpace.png))\n",
    "\n",
    "\n",
    "One of the most interesting types of [attractors](https://en.wikipedia.org/wiki/Attractor) in dynamical systems is the [strange attractor](https://en.wikipedia.org/wiki/Strange_attractor). These are fractal structures in phase space towards which the system evolves over time. Strange attractors are complex and often exhibit self-similarity, meaning they look similar at different scales. The [Lorenz attractor](https://en.wikipedia.org/wiki/Lorenz_system) is a famous example of a strange attractor, displaying a butterfly-shaped pattern.\n",
    "\n",
    "<!-- ![Lorenz Attractor](../images/notes/week10/A_Trajectory_Through_Phase_Space_in_a_Lorenz_Attractor.gif) -->\n",
    "\n",
    "### Long-term Unpredictability\n",
    "\n",
    "While chaotic systems can be predictable in the short term, their long-term behavior is inherently unpredictable due to the exponential growth of errors in initial conditions. You can think about this in terms of taking a bundle of trajectories that all start with slightly different initial conditions. As time goes on, these trajectories will diverge from one another; they will do so exponentially in every direction. The direction in which they diverge most rapidly is called the [Lyapunov exponent](https://en.wikipedia.org/wiki/Lyapunov_exponent). Technically, there's an exponent for each direction in phase space, but we often just refer to the largest one. If the largest Lyapunov exponent is positive, then the system is chaotic. \n"
   ]
  },
  {
   "cell_type": "markdown",
   "metadata": {},
   "source": []
  }
 ],
 "metadata": {
  "kernelspec": {
   "display_name": "Python 3",
   "language": "python",
   "name": "python3"
  },
  "language_info": {
   "name": "python"
  }
 },
 "nbformat": 4,
 "nbformat_minor": 2
}

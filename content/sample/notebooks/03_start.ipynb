{
 "cells": [
  {
   "cell_type": "markdown",
   "metadata": {},
   "source": [
    "# Week 3 - What is Mathematical Modeling?\n",
    "\n",
    "Nature reveals itself to us through interactions. We can tell from observations that it is nature's interactions that lead to its evolution. How nature is changing and predicting how it will change in the future is the work of science. In this work, we observe nature and its interactions to make models of those observations. We aim to predict and explain our observations of nature through this building of models.\n",
    "\n",
    "In physics, our goals are typically to explain and predict observations of physical phenomenon. Here, we focus ourselves to those canonical things that physicists concern themselves with: motion, fields, waves, atoms, nuclei, and so on. \n",
    "\n",
    "```{admonition} Why the word \"observation\"?\n",
    ":class: note\n",
    "\n",
    "We intentionally use the word observations here, because we are not simply talking about what we can see with our eyes. The visible spectrum is limited to a small portion of the [electromagnetic spectrum](https://en.wikipedia.org/wiki/Electromagnetic_spectrum). \n",
    "\n",
    "These observations can come in the form of light, but also as sound, voltage, or current. For example, most instrumentation in laboratories will report only voltages or currents -- rather voltages and currents are what the equipment will measure precisely and report as measurements as different as [distance](https://en.wikipedia.org/wiki/Laser_rangefinder) and [shear stress response](https://en.wikipedia.org/wiki/Rheometer). \n",
    "\n",
    "Lastly, we use \"observation\" because it includes the historical science that conducted qualitative investigations and conceptual observations. It is also language that includes the work of early cultures who made observations and constructed ways of knowing and explaining the world around them. \n",
    "```"
   ]
  },
  {
   "cell_type": "markdown",
   "metadata": {},
   "source": [
    "## What is a model?\n",
    "\n",
    "Physics is a science that builds models. Typically, these models are represented mathematically in the form of equations or formula, but we can use charts, graphs, animations, and so on to represent our models. Models used in physics are often constructed by a community of scientists who have agreed on the model's utility and accuracy. Experimental observations are used to validate these models.\n",
    "\n",
    "Modeling is the process of constructing a model. This process is often iterative where the initial ideas and assumptions are used to formulate a model. It is then tested against observations and refined. This process is repeated until the model is accurate enough to be useful. Physicists are model builders and model users. \n",
    "\n",
    "Geoscientist [John Aiken](https://mnky9800n.github.io/) made this short video when he was a graduate student at Georgia Tech. John cut clips from a lecture [Richard Feynman](https://en.wikipedia.org/wiki/Richard_Feynman) gave. In this lecture, Feynman talks about the nature of models and the process of science.  John also interviewed different science researchers and teachers about their understanding of what a model is. \n",
    "\n",
    "[![](../images/notes/week3/dkTncoPqo5Y.jpg)](https://youtube.com/watch?v=dkTncoPqo5Y)\n",
    "\n",
    "Source: <https://www.youtube.com/watch?v=dkTncoPqo5Y>\n",
    "\n",
    "\n",
    "\n",
    "### Feynman on the Process of Science\n",
    "\n",
    "[Richard Feynman](https://en.wikipedia.org/wiki/Richard_Feynman) was a physicist who made significant contributions to physics, especially in the field of quantum mechanics. He was awarded the [Nobel Prize in Physics in 1965](https://www.nobelprize.org/prizes/physics/1965/feynman/) for his work in quantum electrodynamics. In his time, he was known as a great teacher and communicator of physics. And [his lectures](https://www.feynmanlectures.caltech.edu/) are still used in physics education today -- even for planning this class.\n",
    "\n",
    "Feynman was a gifted communicator; his lectures are lively and conceptual. Here's the longer version of the lecture he gave on the nature of models and the process of science.\n",
    "\n",
    "[![](../images/notes/week3/EYPapE-3FRw.jpg))](https://youtube.com/watch?v=EYPapE-3FRw)\n",
    "\n",
    "Source: <https://www.youtube.com/watch?v=EYPapE-3FRw>\n",
    "\n",
    "```{admonition} Richard Feynman's Legacy\n",
    ":class: warning\n",
    "\n",
    "While we acknowledge the importance of Feynman's contributions to physics and physics teaching, we should remind ourselves that he was not a perfect person. Feynman was also known for his [sexist behavior and comments](https://thebaffler.com/outbursts/surely-youre-a-creep-mr-feynman-mcneill). (*Trigger warning*: this link recounts instances of harassment) \n",
    "\n",
    "We should not ignore this aspect of his life, and remind ourselves that we can learn from his physics and make a welcoming space for all people.\n",
    "```"
   ]
  },
  {
   "cell_type": "markdown",
   "metadata": {},
   "source": [
    "### History and Philosophy of Science\n",
    "\n",
    "If you would like to dive deeper into models and modeling, there's excellent work in history and philosophy of science. The field studies how science develops knowledge, practice, culture, and so on. It studies important events and provides critical information on important and, often, overlooked folks who do science. For example, historian and gender studies professor [Sharon Traweek](https://en.wikipedia.org/wiki/Sharon_Traweek) studies the high energy physics field. Her book, [Beamtimes and Lifetimes: The World of High Energy Physicists](https://en.wikipedia.org/wiki/Beamtimes_and_Lifetimes) is excellent.\n",
    "\n",
    "```{admonition} Dame Nancy Cartwright (philosopher of science)\n",
    ":class: note\n",
    "\n",
    "One of the more interesting scholars is [Dame Nancy Cartwright](https://en.wikipedia.org/wiki/Nancy_Cartwright_(philosopher)) who wrote a lot about the 'practice of science.' Her philosophical work informed many of the innovations in physics and broader science education -- including many science courses at MSU. \n",
    "\n",
    "Her writing is very interesting, but the style of writing can be a challenge to read. This is the nature of academic writing in different disciplines. Her book called \"How The Laws of Physics Lie\" is worth a read. Here's a link to the [first chapter](http://www.generativescience.org/papers/nature/Cartwright-_1983.pdf).\n",
    "```"
   ]
  }
 ],
 "metadata": {
  "kernelspec": {
   "display_name": "Python 3",
   "language": "python",
   "name": "python3"
  },
  "language_info": {
   "codemirror_mode": {
    "name": "ipython",
    "version": 3
   },
   "file_extension": ".py",
   "mimetype": "text/x-python",
   "name": "python",
   "nbconvert_exporter": "python",
   "pygments_lexer": "ipython3",
   "version": "3.9.16"
  },
  "vscode": {
   "interpreter": {
    "hash": "4cde1c9ed8a683d36136dc08e8027575d08b07893b804429583e933d2fe93b0b"
   }
  }
 },
 "nbformat": 4,
 "nbformat_minor": 2
}

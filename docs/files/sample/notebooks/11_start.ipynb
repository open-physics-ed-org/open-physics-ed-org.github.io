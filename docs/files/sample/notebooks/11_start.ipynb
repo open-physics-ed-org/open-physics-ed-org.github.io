{
 "cells": [
  {
   "cell_type": "markdown",
   "metadata": {},
   "source": [
    "# Week 11 - Calculus of Variations"
   ]
  },
  {
   "cell_type": "markdown",
   "metadata": {},
   "source": [
    "We are eventually going to develop some deep principles of classical mechanics that will connect for us the motion of particles and the forces they experience to the energy that moves between aspects of the system. This formulation of mechanics is called [Lagrangian Mechanics](https://en.wikipedia.org/wiki/Lagrangian_mechanics). It is a powerful and elegant way to describe the motion of particles and systems. It is based on the [Calculus of Variations](https://en.wikipedia.org/wiki/Calculus_of_variations), a field of mathematics that is concerned with finding the path that minimizes or maximizes (called \"extremization\") a certain quantity.\n",
    "\n",
    "The conceptual idea of Lagrangian mechanics is to describe the motion of a system by defining a function called the **Lagrangian**. Under this framework, the stationary points (or paths) of the [action integral](https://en.wikipedia.org/wiki/Action_(physics)), which is the integral of the Lagrangian over time, correspond to the actual motion of the system. This means that if you can find the path that minimizes or maximizes this action, you can determine the equations of motion for the system. We will come back to this next week when we derive the Lagrangian equations of motion. But understand that we are seeking to extremize a particular integral to find the path that a system will take through configuration space. \n",
    "\n",
    "Our examples will start with simple systems, like the motion on a plane - where we will prove a line is the shortest path between two points (also known as a geodesic). We will also recover a form of [Snell's Law](https://en.wikipedia.org/wiki/Snell%27s_law) of refraction, which describes how light bends when it passes through different media. We will use running from the shoreline to a point in the water as an example of how to apply these principles. Lastly, we will look at the [Brachistochrone problem](https://en.wikipedia.org/wiki/Brachistochrone_problem), which is the problem of finding the curve down which a bead will slide (without friction) from one point to another in the shortest time. This is a classic problem in the calculus of variations and leads us to the cycloid curve.\n",
    "\n",
    "This section is mathematically intensive and will require you to have a solid understanding of calculus, including differentiation and integration. This mathematics is also very powerful and underlies how we can develop equations of motion in particular systems. But is also describes the shape of surfaces like bubbles and droplets. The video below is a nice introduction to the concept of Calculus of Variations and it's relation to [minimal surfaces](https://en.wikipedia.org/wiki/Minimal_surface).\n",
    "\n",
    "## The Brachistochrone Problem (16 minute video)\n",
    "\n",
    "The Brachistochrone is a well known problem and its history is quite interesting. The video below discusses the problem and it history in detail. It's what helped spur the development of the calculus of variations and the work of Lagrange and others. The problem is deceptively simple: given two points in a vertical plane, find the curve down which a bead will slide (without friction) from one point to the other in the shortest time. The solution to this problem is not a straight line, but rather a cycloid curve.\n",
    "\n",
    "[![Youtube Video on the Brachistochrone Problem](../images/notes/week11/Cld0p3a43fU.jpg)](https://www.youtube.com/watch?v=Cld0p3a43fU)\n",
    "\n",
    "Source: <https://www.youtube.com/watch?v=Cld0p3a43fU>\n",
    "\n",
    "## The Math of Bubbles (17 minute video)\n",
    "\n",
    "In the video below, we learn about the [Soap Bubble Problem](https://en.wikipedia.org/wiki/Soap_bubble), which is another classic problem in the calculus of variations. The goal is to find the shape of a soap bubble that minimizes surface area for a given volume.\n",
    "\n",
    "[![The Math of Bubbles: Minimal Surfaces & the Calculus of Variations](../images/notes/week11/8SABptOYUVk.jpg)](https://youtube.com/watch?v=8SABptOYUVk))\n",
    "\n",
    "Source: <https://youtube.com/watch?v=8SABptOYUVk>"
   ]
  },
  {
   "cell_type": "markdown",
   "metadata": {},
   "source": []
  }
 ],
 "metadata": {
  "kernelspec": {
   "display_name": "Python 3",
   "language": "python",
   "name": "python3"
  },
  "language_info": {
   "name": "python"
  }
 },
 "nbformat": 4,
 "nbformat_minor": 2
}

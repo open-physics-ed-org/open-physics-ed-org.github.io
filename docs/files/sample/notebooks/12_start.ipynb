{
 "cells": [
  {
   "cell_type": "markdown",
   "metadata": {},
   "source": [
    "# Week 12 - The Principle of Least Action"
   ]
  },
  {
   "cell_type": "markdown",
   "metadata": {},
   "source": [
    "[Newtonian Mechanics](https://en.wikipedia.org/wiki/Newton%27s_laws_of_motion) is an incredibly useful model of the natural world. In fact, it wasn't until the mid 1970s that we were able to truly [test Einstein's gravity as a true replacement](https://en.wikipedia.org/wiki/Tests_of_general_relativity) for Newton. That being said, for most terrestrial situations (macroscopic objects moving at low speeds), Newton's mechanics is very good. However, the problem with Newton is that it requires a few things:\n",
    "\n",
    "1. We must be able identify each interaction on the object or model an average behavior from many smaller interactions (e.g., models of friction vs. detailed E&M forces)\n",
    "2. We must be able to mathematically describe the size and direction of the interaction at all times we want to model\n",
    "3. We must be able to vectorially add the interactions to produce the net force $\\sum_i \\vec{F}_i = \\vec{F}_{net}$.\n",
    "\n",
    "In many cases, we can do this. But consider a bead sliding inside a cone. How would you write down the contact force between the cone and the bead for all space and time?\n",
    "\n",
    "This is where [Lagrangian Mechanics](https://en.wikipedia.org/wiki/Lagrangian_mechanics) comes in. It is a powerful and elegant way to describe the motion of particles and systems. It is based on the [Calculus of Variations](https://en.wikipedia.org/wiki/Calculus_of_variations), a field of mathematics that is concerned with finding the path that minimizes or maximizes (called \"extremization\") a certain quantity. In the case of Lagrangian Mechanics, the quantity we are extremizing is the [action](https://en.wikipedia.org/wiki/Action_(physics)).\n",
    "\n",
    "The video below discusses the concept of the Principle of Least Action, which is the foundation of Lagrangian Mechanics.\n",
    "\n",
    "[![The Principle of Least Action](../images/notes/week12/Q_CQDSlmboA.jpg)](https://youtube.com/watch?v=Q_CQDSlmboA)\n",
    "\n",
    "Source: <https://youtube.com/watch?v=Q_CQDSlmboA>\n",
    "\n",
    "## Introduction to Lagrangian Dynamics (10 minute video)\n",
    "\n",
    "The concept of Lagrangian dynamics can be a bit abstract at first, especially if you are used to Newtonian mechanics. The basic idea is that instead of focusing on forces, we focus on the kinetic and potential energy of the system to derive the equations of motion. The procedure to compute the equations of motion is straghtforward, but the set up of these problems can be tricky at first. \n",
    "\n",
    "The basic steps are:\n",
    "1. **Identify the generalized coordinates**: These are the variables that describe the configuration of the system (e.g., angles, distances).\n",
    "2. **Write down the Lagrangian**: The Lagrangian $\\mathcal{L}$ is defined as the difference between the kinetic energy $T$ and potential energy $V$ of the system: \n",
    "   $$ \\mathcal{L} = T - V $$\n",
    "3. **Apply the Euler-Lagrange equations**: The equations of motion are derived from the Lagrangian using the Euler-Lagrange equations:\n",
    "    $$ \\frac{d}{dt} \\left( \\frac{\\partial \\mathcal{L}}{\\partial \\dot{q}_i} \\right) - \\frac{\\partial \\mathcal{L}}{\\partial q_i} = 0 $$\n",
    "    where $q_i$ are the generalized coordinates and $\\dot{q}_i$ are their time derivatives (velocities).\n",
    "\n",
    "But we need practice applying these steps to get comfortable with the process. Parth G. has a lovely video below about the basics of Lagrangian Dynamics. We will do a lot of this in class and go over many examples. This video is a nice introduction to the concept.\n",
    "\n",
    "[![Introduction to Lagrangian Dynamics](../images/notes/week12/KpLno70oYHE.jpg)](https://youtube.com/watch?v=KpLno70oYHE)\n",
    "\n",
    "Source: <https://youtube.com/watch?v=KpLno70oYHE>"
   ]
  },
  {
   "cell_type": "markdown",
   "metadata": {},
   "source": []
  }
 ],
 "metadata": {
  "kernelspec": {
   "display_name": "Python 3",
   "language": "python",
   "name": "python3"
  },
  "language_info": {
   "name": "python"
  }
 },
 "nbformat": 4,
 "nbformat_minor": 2
}

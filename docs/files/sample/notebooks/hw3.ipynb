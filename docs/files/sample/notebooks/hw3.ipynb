{
 "cells": [
  {
   "cell_type": "markdown",
   "id": "50f8c06e",
   "metadata": {
    "editable": true
   },
   "source": [
    "<!-- HTML file automatically generated from DocOnce source (https://github.com/doconce/doconce/)\n",
    "doconce format html hw3.do.txt --no_mako -->\n",
    "<!-- dom:TITLE: PHY321: Classical Mechanics 1 -->"
   ]
  },
  {
   "cell_type": "markdown",
   "id": "cd9e06bf",
   "metadata": {
    "editable": true
   },
   "source": [
    "# Homework 3 (Due 07 Feb)\n",
    "\n",
    "**Due Feb 7 (midnight)**\n",
    "\n",
    "Total points: **100**."
   ]
  },
  {
   "cell_type": "markdown",
   "id": "b1f03437",
   "metadata": {},
   "source": [
    "## Introduction to homework 3\n",
    "\n",
    "This week's sets of classical pen and paper and computational\n",
    "exercises deal with the motion of different objects under the\n",
    "influence of various forces. The relevant reading background is\n",
    "1. chapter 2 of Taylor (there are many good examples there) and\n",
    "\n",
    "2. chapters 5-7 of Malthe-Sørenssen.\n",
    "\n",
    "In both textbooks there are many nice worked out\n",
    "examples. Malthe-Sørenssen's text contains also several coding\n",
    "examples you may find useful.\n",
    "\n",
    "There are several pedagogical aims we have in mind with these exercises:\n",
    "1. Get practice in setting up and analyzing a physical problem, finding the forces and the relevant equations to solve;\n",
    "\n",
    "2. Analyze the results and ask yourself whether they make sense or not;\n",
    "\n",
    "3. Finding analytical solutions to problems if possible and compare these with numerical results. This teaches us also how to understand errors in numerical calculations;\n",
    "\n",
    "4. Being able to solve (in mechanics these are the most common types of equations) numerically ordinary differential equations and compare the solutions where possible with analytical solutions;\n",
    "\n",
    "5. Getting used to studying physical problems using all possible tools, from paper and pencil to numerical solutions;\n",
    "\n",
    "6. Then analyze the results and ask yourself whether they make sense or not.\n",
    "\n",
    "The above steps outline important elements of our understanding of the\n",
    "scientific method. Furthermore, there are also explicit coding skills\n",
    "we aim at such as setting up arrays, solving differential equations\n",
    "numerically and plotting your results.  Coding practice is also an\n",
    "important aspect. The more we practice the better we get (hopefully).\n",
    "From a numerical mathematics point of view, we will solve the differential\n",
    "equations using Euler's method (forward Euler).\n",
    "\n",
    "The code we will develop can be reused as a basis for coming homeworks. We can\n",
    "also extend the numerical solver we write here to include other methods (later) like\n",
    "the modified Euler method (Euler-Cromer, midpoint Euler) and more\n",
    "advanced methods like the family of Runge-Kutta methods and the Velocity-Verlet method.\n",
    "\n",
    "At the end of this course, we will thus have developed a larger code\n",
    "(or set of codes) which will allow us to study different numerical\n",
    "methods (integration and differential equations) as well as being able\n",
    "to study different physical systems. Combined with analytical skills,\n",
    "the hope is that this can allow us to explore interesting and\n",
    "realistic physics problems. By doing so, the hope is that can lead to\n",
    "deeper insights about the laws of motion which govern a system.\n",
    "\n",
    "And hopefully you can reuse many of the above solvers in other courses (our ideal).\n",
    "\n",
    "### Practicalities about  homeworks and projects\n",
    "\n",
    "1. You can work in groups (optimal groups are often 2-3 people) or by yourself. If you work as a group you can hand in one answer only if you wish. **Remember to write your name(s)**!\n",
    "\n",
    "2. Homeworks are available ten days  before the deadline. \n",
    "\n",
    "3. How do I(we)  hand in?  You can hand in the paper and pencil exercises as a **single scanned PDF document**. For this homework this applies to exercises 1-5. Your jupyter notebook file should be converted to a **PDF** file, attached to the same PDF file as for the pencil and paper exercises. All files should be uploaded to Gradescope. \n",
    "\n",
    "**[Instructions for submitting to Gradescope](../resources/gradescope-submissions.md).**"
   ]
  },
  {
   "cell_type": "markdown",
   "id": "93cc0cf8",
   "metadata": {
    "editable": true
   },
   "source": [
    "## Exercise 1 (20 pt), Electron moving into an electric field\n",
    "\n",
    "An electron is sent through a varying electrical\n",
    "field. Initially, the electron is moving in the $x$-direction with a velocity\n",
    "$v_x = 100$ m/s. The electron enters the field when it passes the origin. The field\n",
    "varies with time, causing an acceleration of the electron that varies in time"
   ]
  },
  {
   "cell_type": "markdown",
   "id": "f7e1f827",
   "metadata": {
    "editable": true
   },
   "source": [
    "$$\n",
    "\\vec{a}(t)=\\left(-20\\mathrm{m/s}^2-10\\mathrm{m/s}^3t\\right) \\vec{e}_y\n",
    "$$"
   ]
  },
  {
   "cell_type": "markdown",
   "id": "d537571a",
   "metadata": {
    "editable": true
   },
   "source": [
    "* 1a (4pt) Find the velocity as a function of time for the electron.\n",
    "\n",
    "* 1b (4pt)  Find the position as a function of time for the electron.\n",
    "\n",
    "The field is only acting inside a box of length $L = 2m$.\n",
    "* 1c (4pt)  For how long time is the electron inside the field?\n",
    "\n",
    "* 1d (4pt)  What is the displacement in the $y$-direction when the electron leaves the box. (We call this the deflection of the electron).\n",
    "\n",
    "* 1e (4pt)  Find the angle the velocity vector forms with the horizontal axis as the electron leaves the box."
   ]
  },
  {
   "cell_type": "markdown",
   "id": "f295f305",
   "metadata": {
    "editable": true
   },
   "source": [
    "## Exercise 2 (10 pt), Drag force\n",
    "\n",
    "We can observe that the models for linear and quadratic drag forces are given by:\n",
    "\n",
    "$$f_{lin} = 3\\pi \\eta D v \\qquad f_{quad} = \\kappa \\rho A v^2$$\n",
    "\n",
    "where $D$ is the \"length scale\" of the object (e.g., the diameter of the sphere), $\\eta$ is the viscosity of the fluid, $\\rho$ is the density of the fluid, $A$ is the cross-sectional area of the object, and $\\kappa$ is a constant of order unity (larger for flat and blunt bodies; smaller for streamlined bodies).\n",
    "\n",
    "* 2a (5pt) The Reynolds number is defined as $Re = \\rho v D / \\eta$. What is the physical meaning of this number? For a spherical object, show that the ratio of the quadratic drag force to the linear drag force is given by $f_{quad}/f_{lin} = Re/48$. Use this to explain the physical meaning of the Reynolds number. **Note: you may assume that $\\kappa = 0.25$ for a sphere.**\n",
    "* 2b (2pt) Explain a situation where there would be a low Reynolds number. What about a high Reynolds number? Estimate the Reynolds number for a falling rain drop, a parachutist, a car, and a plane.\n",
    "* 2c (3pt) Find another [dimensionless number from fluid mechanics](https://en.wikipedia.org/wiki/Dimensionless_numbers_in_fluid_mechanics) and explain its physical meaning. Make sure you consider high and low values of the number you find."
   ]
  },
  {
   "cell_type": "markdown",
   "id": "648d985d",
   "metadata": {
    "editable": true
   },
   "source": [
    "## Exercise 3 (10 pt), Falling object\n",
    "\n",
    "We have shown that an object that is dropped from rest and experiences linear drag force will reach a terminal velocity and do so exponentially:\n",
    "\n",
    "$$v_y(t) = v_{ter}(1-e^{-t/\\tau}).$$\n",
    "\n",
    "* 3a (4pt) At first, the object will be moving slowly. Show that we can approximate this expression in that interval. We should find that $v_y = gt$ -- the standard result for free fall in vacuum. Demonstrate this. \n",
    "* 3b (3pt) What is the next term, $O(t^2)$, in the expansion? What is the physical meaning of this term?\n",
    "* 3c (4pt) The position of the object is given by: $y(t) = v_{ter}t + (v_{y0}-v_{ter})\\tau(1-e^{-t/\\tau})$. Show that this reduces to the standard result $y = \\frac{1}{2}gt^2$ when $v_{y0} = 0$. What is the small parameter in your expansions in all cases?"
   ]
  },
  {
   "cell_type": "markdown",
   "id": "4039b53b",
   "metadata": {
    "editable": true
   },
   "source": [
    "## Exercise 4 (10 pt), and now a theoretical exercise\n",
    "\n",
    "Finding and exploring equations of motion is the central enterprise of classical mechanics. You will encounter (and derive) many equations you have not seen before, and you will need to explain them. Consider a hypothetical one-dimensional system where a mass $m$ has a speed of $v_0$ and coasts along the x-axis. The surrounding medium produces a drag force that is modeled using:\n",
    "\n",
    "$$F(v) = -c v^{3/2}.$$\n",
    "\n",
    "When the force is a pure function of velocity, using the technique called separation of variables on Newton's 2nd Law, we can find the velocity as a function of time:\n",
    "\n",
    "We can separate variables and write:\n",
    "\n",
    "$$F(v) = m a = m \\dfrac{dv}{dt}$$\n",
    "\n",
    "Divide both sides by $F(v)$ and multiply both sides by $dt$:\n",
    "\n",
    "$$dt = \\dfrac{m}{F(v)}dv$$\n",
    "\n",
    "And then, given starting (initial) conditions, we integrate both sides to find an expression for $t$ as a function of $v$.\n",
    "\n",
    "$$t = m \\int_{v_0}^v \\dfrac{dv'}{F(v')}$$\n",
    "\n",
    "* 4a (4pt) For the given force above, write the equation of motion in a form: $\\dfrac{m dv}{F(v)} = dt$. Integrate both sides to find an expression for the velocity $v$ as a function of $t$ ($v(t)$ not $t(v)$). \n",
    "* 4b (2pt) Check your answer by looking at the limits of its behavior. Does it agree with your intuition?\n",
    "* 4c (2pt) Sketch the expression and explain what the motion of the object looks like by interpreting this expression and your sketch.\n",
    "* 4d (2pt) Will the object ever come to rest?  "
   ]
  },
  {
   "cell_type": "markdown",
   "id": "0e455481",
   "metadata": {
    "editable": true
   },
   "source": [
    "## Exercise 5 (10 pt), back to a falling ball and preparing for the numerical exercise\n",
    "\n",
    "**Useful material: Malthe-Sørenssen chapter 7.5 and Taylor chapter 2.4.**\n",
    "\n",
    "In this example we study the motion of an object subject to a constant force and a velocity dependent\n",
    "force. We will reuse the code we develop here in homework 4 for a position-dependent force.\n",
    "\n",
    "Here we limit ourselves to a ball that is thrown from a height $h$\n",
    "above the ground with an initial velocity\n",
    "$\\vec{v}_0$ at time $t=t_0$. We assume the air resistance is proportional to the square velocity. Together with the gravitational force these are the forces acting on our system.\n",
    "\n",
    "```{note}\n",
    "Due to the specific velocity dependence, we cannot find an analytical solution for motion in the $x$ and $y$ directions, see the discussion in Taylor after eq. (2.61).\n",
    "```\n",
    "\n",
    "In order to find an analytical solution we need to assume that the object is falling in the $y$-direction (negative direction) only. \n",
    "\n",
    "The position of the ball as function of time is  $\\vec{r}(t)$ where $t$ is time.\n",
    " The position is measured with respect to a coordinate system with origin at the floor.\n",
    "\n",
    "We assume we have an initial position $\\vec{r}(t_0)=h\\vec{e}_y$ and an initial velocity $\\vec{v}_0=v_{x,0}\\vec{e}_x+v_{y,0}\\vec{e}_y$.\n",
    "\n",
    "In this exercise we assume the system is influenced by the gravitational force"
   ]
  },
  {
   "cell_type": "markdown",
   "id": "3c615a84",
   "metadata": {
    "editable": true
   },
   "source": [
    "$$\n",
    "\\vec{F}_{grav}=-mg\\vec{e}_y\n",
    "$$"
   ]
  },
  {
   "cell_type": "markdown",
   "id": "a540d30c",
   "metadata": {
    "editable": true
   },
   "source": [
    "and an air resistance given by a square law"
   ]
  },
  {
   "cell_type": "markdown",
   "id": "d7bff9c3",
   "metadata": {
    "editable": true
   },
   "source": [
    "$$\n",
    "\\vec{F}_{drag} = -Dv\\vec{v}.\n",
    "$$"
   ]
  },
  {
   "cell_type": "markdown",
   "id": "4bf57cfd",
   "metadata": {
    "editable": true
   },
   "source": [
    "The analytical expressions for velocity and position as functions of\n",
    "time will be used to compare with the numerical results in exercise 6.\n",
    "\n",
    "* 5a (3pt) Identify the forces acting on the ball and set up a diagram with the forces acting on the ball. Find the equation of motion for the falling ball. **Do not limit to 1D yet!**\n",
    "\n",
    "* 5b (4pt) Assume now that the object is falling only in the $y$-direction (negative direction). Integrate the equation of motion from an initial time $t_0$ to a final time $t$ and find the velocity. Assume it is dropped from rest to simplify the mathematics.  In Taylor equations (2.52) to (2.58) you will find a very good discussion of this.\n",
    "\n",
    "* 5c (3pt) Find thereafter the position as function of time starting with an initial time $t_0$. Find the time it takes to hit the floor.  Here you will find it convenient to set the initial velocity in the $y$-direction to zero. Taylor equations (2.52)-(2.58) should contain all relevant information for solving this part as well.\n",
    "\n",
    "We will use the above analytical results in our numerical calculations in exercise 6. The analytical solution in the $y$-direction only will serve as a test for our numerical solution. **We don't often know the solutions to our problems exactly, so we have to check them against things we do know.**"
   ]
  },
  {
   "cell_type": "markdown",
   "id": "95731bd8",
   "metadata": {
    "editable": true
   },
   "source": [
    "## Exercise 6 (40pt), Numerical elements, solving exercise 5 numerically\n",
    "\n",
    "**This exercise should be handed in as a jupyter-notebook** at D2L. Remember to write your name(s). \n",
    "\n",
    "Last week we:\n",
    "1. Gained more practice with plotting in Python\n",
    "\n",
    "2. Became familiar with arrays and representing vectors with such objects\n",
    "\n",
    "This week we will:\n",
    "1. Learn and utilize Euler's Method to find the position and the velocity\n",
    "\n",
    "2. Compare analytical and computational solutions \n",
    "\n",
    "3. Add additional forces to our model"
   ]
  },
  {
   "cell_type": "code",
   "execution_count": 1,
   "id": "d6128a77",
   "metadata": {
    "collapsed": false,
    "editable": true
   },
   "outputs": [],
   "source": [
    "%matplotlib inline\n",
    "\n",
    "# let's start by importing useful packages we are familiar with\n",
    "import numpy as np\n",
    "import matplotlib.pyplot as plt\n",
    "%matplotlib inline"
   ]
  },
  {
   "cell_type": "markdown",
   "id": "c12f3ea0",
   "metadata": {
    "editable": true
   },
   "source": [
    "We will choose the following values\n",
    "1. mass $m=0.2$ kg\n",
    "\n",
    "2. accelleration (gravity) $g=9.81$ m/s$^{2}$.\n",
    "\n",
    "3. initial position is the height $h=2$ m\n",
    "\n",
    "4. initial velocities $v_{x,0}=v_{y,0}=10$ m/s\n",
    "\n",
    "Can you find a reasonable value for the drag coefficient $D$?\n",
    "You need also to define an initial time and \n",
    "the step size $\\Delta t$. We can define the step size $\\Delta t$ as the difference between any\n",
    "two neighboring values in time (time steps) that we analyze within\n",
    "some range. It can be determined by dividing the interval we are\n",
    "analyzing, which in our case is time $t_{\\mathrm{final}}-t_0$, by the number of steps we\n",
    "are taking $(N)$. This gives us a step size $\\Delta t = \\dfrac{t_{\\mathrm{final}}-t_0}{N}$.\n",
    "\n",
    "With these preliminaries we are now ready to plot our results from exercise 5.\n",
    "\n",
    "* 6a (10pt) Set up arrays for time, velocity, acceleration and positions for the results from exercise 5. Define an initial and final time. Choose the final time to be the time when the ball hits the ground for the first time. Make a plot of the position and velocity as functions of time.  Here you could set the initial velocity in the $y$-direction to zero and use the result from exercise 5. Else you need to try different initial times using the result from exercise 5 as a starting guess.  It is not critical if you don't reach the ground when the initial velocity in the $y$-direction is not zero.\n",
    "\n",
    "We move now to the numerical solution of the differential equations as discussed in the [lecture notes](https://mhjensen.github.io/Physics321/doc/pub/motion/html/motion.html) or Malthe-Sørenssen chapter 7.5.\n",
    "Let us remind ourselves about  Euler's Method.\n",
    "\n",
    "Suppose we know $f(t)$ and its derivative $f'(t)$. To find $f(t+\\Delta t)$ at the next step, $t+\\Delta t$,\n",
    "we can consider the Taylor expansion:\n",
    "\n",
    "$f(t+\\Delta t) = f(t) + \\dfrac{(\\Delta t)f'(t)}{1!} + \\dfrac{(\\Delta t)^2f''(t)}{2!} + ...$\n",
    "\n",
    "If we ignore the $f''$ term and higher derivatives, we obtain\n",
    "\n",
    "$f(t+\\Delta t) \\approx f(t) + (\\Delta t)f'(t)$.\n",
    "\n",
    "This approximation is the basis of Euler's method, and the Taylor\n",
    "expansion suggests that it will have errors of $O(\\Delta t^2)$.  Thus, one\n",
    "would expect it to work better, the smaller the step size $h$ that you\n",
    "use. In our case the step size is $\\Delta t$. \n",
    "\n",
    "In setting up our code we need to\n",
    "\n",
    "1. Define and obtain all initial values, constants, and time to be analyzed with step sizes as done above (you can use the same values)\n",
    "\n",
    "2. Calculate the velocity using $v_{i+1} = v_{i} + (\\Delta t)*a_{i}$\n",
    "\n",
    "3. Calculate the position using $pos_{i+1} = r_{i} + (\\Delta t)*v_{i}$\n",
    "\n",
    "4. Calculate the new acceleration $a_{i+1}$.\n",
    "\n",
    "5. Repeat steps 2-4 for all time steps within a loop.\n",
    "\n",
    "* 6b (20 pt) Write a code which implements Euler's method and compute numerically and plot the position and velocity as functions of time for various values of $\\Delta t$. Comment your results.\n",
    "\n",
    "* 6c (10pt) Compare your numerically obtained positions and velocities with the analytical results from exercise 5. In order to do this, you need to take out the motion in the $x$-direction. Comment again your results."
   ]
  },
  {
   "cell_type": "markdown",
   "id": "816aae02",
   "metadata": {
    "editable": true
   },
   "source": [
    "### Integrating Classwork With Research\n",
    "\n",
    "This opportunity will allow you to earn up to 5 extra credit points on a Homework per week. These points can push you above 100% or help make up for missed exercises.\n",
    "In order to earn all points you must:\n",
    "\n",
    "1. Attend an MSU research talk (recommended research oriented Clubs is  provided below)\n",
    "\n",
    "2. Summarize the talk using at least 150 words\n",
    "\n",
    "3. Turn in the summary along with your Homework (Email to <caball14@msu.edu>).\n",
    "\n",
    "Approved talks:\n",
    "Talks given by researchers through the following clubs:\n",
    "\n",
    "* Society for Physics Students (SPS)​: Meets Monday Nights (alternates with Astronomy Club)\n",
    "\n",
    "* Astronomy Club​: Meets Monday Nights (alternates with SPS)\n",
    "\n",
    "* Any [physics and astronomy seminar](https://pa.msu.edu/news-events-seminars/index.aspx) of interest to you\n",
    "\n",
    "If you have any questions please consult Danny."
   ]
  },
  {
   "cell_type": "markdown",
   "id": "ac91390f",
   "metadata": {},
   "source": []
  }
 ],
 "metadata": {
  "kernelspec": {
   "display_name": "Python 3",
   "language": "python",
   "name": "python3"
  },
  "language_info": {
   "name": "python"
  }
 },
 "nbformat": 4,
 "nbformat_minor": 5
}

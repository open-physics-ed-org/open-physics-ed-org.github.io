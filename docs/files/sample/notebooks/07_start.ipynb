{
 "cells": [
  {
   "cell_type": "markdown",
   "metadata": {},
   "source": [
    "# Week 7 - Nonlinear Dynamics\n",
    "\n",
    "We have now built enough tools to tackle some challenging physical systems that have nonlinear equations of motion. The broader field of study that deals with these systems is called [Nonlinear Dynamics](https://en.wikipedia.org/wiki/Nonlinear_system). Nonlinear dynamics or nonlinear science is the study of systems that are described by nonlinear equations. These systems are often chaotic, meaning they are highly sensitive to initial conditions. In many cases, these systems are treated using [dynamical systems theory](https://en.wikipedia.org/wiki/Dynamical_system).\n",
    "\n",
    "Nonlinear dynamics is the science that has helped us understand the dynamics of [fluids](https://en.wikipedia.org/wiki/Navier%E2%80%93Stokes_equations), [water waves](https://en.wikipedia.org/wiki/Kadomtsev%E2%80%93Petviashvili_equation), [crystals and other optical systems](https://en.wikipedia.org/wiki/Nonlinear_optics), [radio waves](https://en.wikipedia.org/wiki/Li%C3%A9nard_equation), [the weather](https://en.wikipedia.org/wiki/Numerical_weather_prediction), and countless other systems. It has been used in [fluid dynamics](https://en.wikipedia.org/wiki/Turbulence), [plasma physics](https://en.wikipedia.org/wiki/Plasma_modeling), [mechanical systems](https://en.wikipedia.org/wiki/Double_pendulum), and many other fields. [Chaos theory](https://en.wikipedia.org/wiki/Chaos_theory) is associated with nonlinear dynamics and is a subset of the field. Recently, this work has extended to quantum systems, where the Hamiltonian is nonlinear. [Quantum chaos](https://en.wikipedia.org/wiki/Quantum_chaos) is a field that studies the quantum analog of classical chaotic systems."
   ]
  },
  {
   "cell_type": "markdown",
   "metadata": {},
   "source": [
    "## Nonlinear Differential Equations \n",
    "\n",
    "Differential equations are the language of classical mechanics. They describe how the systems we investigate evolve over time. They track the [state variables](https://en.wikipedia.org/wiki/State_variable) of the system, which are what define the system. For us, this is often the position components and the velocity components of the system. The video below gives a good overview of what differential equations are and why they are important for our study. It also provides an introduction to the concept of a [phase space](https://en.wikipedia.org/wiki/Phase_space), which is the space defined by all the state variables of the system.\n",
    "\n",
    "### Differential equations, a tourist's guide (27 min)\n",
    "\n",
    "[![Differential Equations](../images/notes/week7/p_di4Zn4wz4.jpg)](https://www.youtube.com/watch?v=p_di4Zn4wz4)\n",
    "\n",
    "Source: <https://www.youtube.com/watch?v=p_di4Zn4wz4>\n",
    "\n",
    "## Phase Portraits\n",
    "\n",
    "Solving non-linear equations can be quite difficult, and in most cases, we can't find an analytical solution. We can numerically integrate the equations to find specific trajectories. But this is a fairly inefficient approach, especially when nonlinear systems exhibit such complex behavior and are so sensitive to initial conditions. \n",
    "\n",
    "We can also use a technique called [phase portraits](https://en.wikipedia.org/wiki/Phase_portrait) to understand the behavior of these systems. A phase portrait is a graphical representation of the trajectories of a dynamical system in the phase space. That space is defined by the combination of all the state variables of the system. For example, a simple pendulum has two state variables: the angle and the angular velocity. The phase portrait of the pendulum is a plot of the angular velocity against the angle. Or for the harmonic oscillator, the phase portrait is a plot of the velocity against the position.\n",
    "\n",
    "*Phase portraits are quite useful for second order differential equations (or any two-dimensional system) because we frequently use and interpret 2D graphs.* Notice that we focused on \"2nd order differential equations\" not \"linear 2nd order.\" That is because, as we will see, **phase portraits are particularly useful for nonlinear 2nd order differential equations.**\n",
    "\n",
    "We will go into the details of how to construct and develop phase portraits in class. This video from [Steve Brunton](https://www.me.washington.edu/facultyfinder/steve-brunton) is a good overview of the process. It's quite detailed and takes a mathematical perspective, so don't worry if you don't understand everything in the video. We have plenty of time to investigate how this works in practice.\n",
    "\n",
    "### Drawing Phase Portraits for Nonlinear Systems (26 min)\n",
    "\n",
    "[![Drawing Phase Portraits for Nonlinear Systems](../images/notes/week7/vBwyD4JJlSs.jpg)](https://www.youtube.com/watch?v=vBwyD4JJlSs)\n",
    "\n",
    "Source: <https://www.youtube.com/watch?v=vBwyD4JJlSs>"
   ]
  },
  {
   "cell_type": "markdown",
   "metadata": {},
   "source": []
  }
 ],
 "metadata": {
  "kernelspec": {
   "display_name": "Python 3",
   "language": "python",
   "name": "python3"
  },
  "language_info": {
   "name": "python"
  }
 },
 "nbformat": 4,
 "nbformat_minor": 2
}

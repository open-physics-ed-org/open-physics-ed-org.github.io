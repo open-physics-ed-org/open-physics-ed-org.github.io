{
 "cells": [
  {
   "cell_type": "markdown",
   "id": "439203c7",
   "metadata": {
    "editable": true
   },
   "source": [
    "# Homework 2 (Due 31 Jan)\n",
    "\n",
    "**Due January 31 (midnight)**\n",
    "\n",
    "Total points: **100**."
   ]
  },
  {
   "cell_type": "markdown",
   "id": "98f2a844",
   "metadata": {
    "editable": true
   },
   "source": [
    "**Practicalities about  homeworks and projects**\n",
    "\n",
    "1. You can work in groups (optimal groups are often 2-3 people) or by yourself. If you work as a group you can hand in one answer only if you wish. **Remember to write your name(s)**!\n",
    "2. Homeworks are available approximately ten days before the deadline. You should anticipate this work.\n",
    "3. How do I(we)  hand in?  You can hand in the paper and pencil exercises as a **single scanned PDF document**. For this homework this applies to exercises 1-5. Your jupyter notebook file should be converted to a **PDF** file, attached to the same PDF file as for the pencil and paper exercises. All files should be uploaded to Gradescope. \n",
    "\n",
    "**[Instructions for submitting to Gradescope](../resources/gradescope-submissions.md).**"
   ]
  },
  {
   "cell_type": "markdown",
   "id": "bec6aac6",
   "metadata": {
    "editable": true
   },
   "source": [
    "### Exercise 1 (10 pt), Forces, discussion questions, test your intuition\n",
    "\n",
    "These questions expect not only an answer, but an explanation of your reasoning. \n",
    "\n",
    "*To receive full credit, these answers should include both the underlying physics that explains your answer, but how you feel about that answer (i.e. are you confident? do you like this answer? do it unsettle you? it's ok to feel uncomfortable right now with these ideas; physics intuition is developed and often has to be resolved with our everyday experiences).*\n",
    "\n",
    "* 1a (2pt) Single force. Can an object affected only by a single force have zero acceleration?\n",
    "\n",
    "* 1b (2pt) Zero velocity. If you throw a ball vertically it has zero velocity at its maximum point. Does it also have zero acceleration at this point?\n",
    "\n",
    "* 1c (3pt) Acceleration of gravity. You measure the acceleration of gravity in an elevator moving at a velocity of 9.8m/s downwards. What will you measure?\n",
    "\n",
    "* 1d (3pt) Air resistance. You throw a ball straight up and measure the velocity as it passes you on its way down. Will the velocity be larger, the same, or smaller if you did the same experiment in vacuum?"
   ]
  },
  {
   "cell_type": "markdown",
   "id": "397087b5",
   "metadata": {
    "editable": true
   },
   "source": [
    "### Exercise 2 (10 pt), setting up forces, Newton's second law\n",
    "\n",
    "Useful material here to read is\n",
    "1. Taylor chapters 1.3 and 1.4 and\n",
    "\n",
    "2. Malthe-Sørenssen chapters 5.1, 5.2 and 5.3\n",
    "\n",
    "A person jumps from an airplane, falling freely for several seconds before the person pulls the cord of the parachute and the parachute unfolds. \n",
    "* 2a (3pt)  Identify the forces acting on the parachuter and draw a free-body diagram of the parachuter before the person has pulled the cord. Include a brief discussion of any assumptions you make, motivate and justify your choices.\n",
    "\n",
    "* 2b (3pt)  Identify the forces acting on the parachuter and draw a free-body diagram of the parachuter after the person has pulled the cord. Include a brief discussion of any assumptions you make, motivate and justify your choices.\n",
    "\n",
    "* 2c (4pt)  Sketch the net force acting on the parachuter as a function of time, F(t). Your sketch should be qualitatively correct, indicate the axes, and show clearly which forces are acting on the parachuter before and after the person has pulled the cord. "
   ]
  },
  {
   "cell_type": "markdown",
   "id": "a757ce62",
   "metadata": {
    "editable": true
   },
   "source": [
    "### Exercise 3 (10 pt), Space shuttle with air resistance\n",
    "\n",
    "Useful material here to read is: Malthe-Sørenssen chapters 5.1, 5.2 and 5.3\n",
    "\n",
    "During lift-off of the space shuttle the engines provide a force of $35\\times 10^{6}$ N. The mass of the shuttle is approximately\n",
    "$2\\times 10^6$ kg.\n",
    "\n",
    "* 3a (3pt) Draw a free-body diagram of the space shuttle immediately after lift-off.\n",
    "\n",
    "* 3b (3pt)  Find an expression for the acceleration of the space shuttle immediately after lift-off.\n",
    "\n",
    "Let us assume that the force from the engines is constant, and that the mass of the\n",
    "space shuttle does not change significantly over the first 20 s.\n",
    "* 3c (4pt) Find the velocity and position of the space shuttle after 20 s if you ignore air resistance."
   ]
  },
  {
   "cell_type": "markdown",
   "id": "00bfd385",
   "metadata": {
    "editable": true
   },
   "source": [
    "### Exercise 4 (15 pt), Hitting a golf ball\n",
    "\n",
    "Useful material here to read is\n",
    "* Taylor chapters 1.3-1.6 and\n",
    "* Malthe-Sørenssen chapter 6.3-6.4 and 7.1-7.3\n",
    "\n",
    "**Do Taylor exercise 1.35**. The formulae you obtain here will be useful for the numerical exercises below (see exercise 6 below).\n",
    "\n",
    "*Repeated below consistent with [fair use practices](https://en.wikipedia.org/wiki/Fair_use)*\n",
    "\n",
    "A golf ball is hit from ground level with a speed $v_0$  in a direction due east that is at an angle $\\theta$ above the horizontal. \n",
    "\n",
    "* 4a (5 pt) Neglecting air resistance, use Newton's second law to find the position as a function of time, using the coordinates $x$ measured east, $y$ measured north, and $z$ measured up.\n",
    "* 4b (5 pt) Find the time the golf ball is in the air and how far it travels in that time.\n",
    "\n",
    "**Reflect on the form of your answer.**\n",
    "\n",
    "* 4c (5 pt) Your answers should depend on $v_0$ and $\\theta$. What can you say about the dependence of the time the golf ball is in the air and the distance it travels on these two variables? How can we believe this functional form of your answer? How can we check it? Propose a check and check that your answer is consistent with this check."
   ]
  },
  {
   "cell_type": "markdown",
   "id": "27e76aed",
   "metadata": {
    "editable": true
   },
   "source": [
    "### Exercise 5 (15 pt), ball thrown along a sloped ramp\n",
    "\n",
    "**Taylor exercise 1.39.** Make sure to draw your setup clearly, show your free-body diagram, and explain any assumptions you make to solve the problem.\n",
    "\n",
    "*Repeated below consistent with [fair use practices](https://en.wikipedia.org/wiki/Fair_use)*\n",
    "\n",
    "A ball is thrown with initial speed $v_0$ up an inclined plane. The plane is inclined at an angle $\\phi$ above the horizontal, and the ball's initial velocity is at an angle $\\theta$ above the plane. Choose axes with $x$ measured up the slope, $y$ normal to the slope, and $z$ across it.\n",
    "\n",
    "* 5a (5 pt) Write down Newton's second law using these axes and find the ball's position as a function of time. **Make sure to include the FBD and any assumptions you make.**\n",
    "* 5b (5 pt) Show that the ball lands a distance \n",
    "\n",
    "$$R=2v_0^2\\dfrac{\\sin\\theta\\cos\\left(\\theta + \\phi\\right)}{g \\cos^2 \\phi}$$\n",
    "\n",
    "from its launch point. **This is measured up the ramp (i.e., along it).**\n",
    "\n",
    "* 5c (5 pt) Show that for given $v_0$ and $\\phi$, the maximum range up the inclined plane is:\n",
    "\n",
    "$$R_{\\text{max}}=\\dfrac{v_0^2}{g(1+\\sin\\phi)}$$"
   ]
  },
  {
   "cell_type": "markdown",
   "id": "06e5c8e1",
   "metadata": {
    "editable": true
   },
   "source": [
    "### Exercise 6 (40pt), Numerical elements, moving to more than one dimension\n",
    "\n",
    "**This exercise should be handed in as a jupyter-notebook** at D2L. Remember to write your name(s). \n",
    "\n",
    "Last week we:\n",
    "1. Analytically mapped 1D motion over some time\n",
    "\n",
    "2. Gained practice with functions\n",
    "\n",
    "3. Reviewed vectors and matrices in Python\n",
    "\n",
    "This week we will:\n",
    "1. Practice using Python syntax and variable manipulation\n",
    "\n",
    "2. Utilize analytical solutions to create more refined functions\n",
    "\n",
    "3. Work in two, three or even higher dimensions\n",
    "\n",
    "This material will then serve as background for the numerical part of homework 3. The first part is a simple warm-up, with hints and suggestions you can use for the code to write below."
   ]
  },
  {
   "cell_type": "code",
   "execution_count": 2,
   "id": "c834dc51",
   "metadata": {
    "collapsed": false,
    "editable": true
   },
   "outputs": [],
   "source": [
    "%matplotlib inline\n",
    "\n",
    "# As usual, here are some useful packages we will be using. Feel free to use more and experiment as you wish.\n",
    "\n",
    "import numpy as np\n",
    "import matplotlib.pyplot as plt\n",
    "from mpl_toolkits import mplot3d\n",
    "%matplotlib inline"
   ]
  },
  {
   "cell_type": "markdown",
   "id": "b6513326",
   "metadata": {
    "editable": true
   },
   "source": [
    "In class (the falling baseball example) we used an  analytical expression for the height of a falling ball.\n",
    "In the first homework we used instead the position from experiment (Usain Bolt's 100m record run) and stored this\n",
    "information with one-dimensional arrays in Python.\n",
    "\n",
    "Let us get some practice with this. The cell below creates two arrays,\n",
    "one containing the times to be analyzed and the other containing the $x$\n",
    "and $y$ components of the position vector at each point in time.  This is a two-dimensional object. The\n",
    "second array is initially empty. Then we define  the initial\n",
    "position to be $x=2$ and $y=1$. Take a look at the code and comments\n",
    "to get an understanding of what is happening. Feel free to play around with it."
   ]
  },
  {
   "cell_type": "code",
   "execution_count": 3,
   "id": "2a321676",
   "metadata": {
    "collapsed": false,
    "editable": true
   },
   "outputs": [],
   "source": [
    "tf = 4 #length of value to be analyzed\n",
    "dt = .001 # step sizes\n",
    "t = np.arange(0.0,tf,dt) # Creates an evenly spaced time array going from 0 to 3.999, with step sizes .001\n",
    "p = np.zeros((len(t), 2)) # Creates an empty array of [x,y] arrays (our vectors). Array size is same as the one for time.\n",
    "p[0] = [2.0,1.0] # This sets the inital position to be x = 2 and y = 1"
   ]
  },
  {
   "cell_type": "markdown",
   "id": "fddfb5b0",
   "metadata": {
    "editable": true
   },
   "source": [
    "Below we are printing specific values of our array to see what is being\n",
    "stored where. The first number in the array $r[]$ represents which array\n",
    "iteration we are looking at, while the number after the  represents\n",
    "which listed number in the array iteration we are getting back."
   ]
  },
  {
   "cell_type": "code",
   "execution_count": 4,
   "id": "9d56825b",
   "metadata": {
    "collapsed": false,
    "editable": true
   },
   "outputs": [
    {
     "name": "stdout",
     "output_type": "stream",
     "text": [
      "[2. 1.]\n",
      "[2. 1.]\n"
     ]
    }
   ],
   "source": [
    "print(p[0]) # Prints the first array\n",
    "print(p[0,:]) # Same as above, these commands are interchangeable"
   ]
  },
  {
   "cell_type": "code",
   "execution_count": 5,
   "id": "aea3f1b2",
   "metadata": {
    "collapsed": false,
    "editable": true
   },
   "outputs": [
    {
     "name": "stdout",
     "output_type": "stream",
     "text": [
      "[0. 0.]\n"
     ]
    }
   ],
   "source": [
    "print(p[3999]) # Prints the 4000th array"
   ]
  },
  {
   "cell_type": "code",
   "execution_count": 6,
   "id": "5df2f7c3",
   "metadata": {
    "collapsed": false,
    "editable": true
   },
   "outputs": [
    {
     "name": "stdout",
     "output_type": "stream",
     "text": [
      "2.0\n"
     ]
    }
   ],
   "source": [
    "print(p[0,0]) # Prints the first value of the first array"
   ]
  },
  {
   "cell_type": "code",
   "execution_count": 7,
   "id": "08ff65c9",
   "metadata": {
    "collapsed": false,
    "editable": true
   },
   "outputs": [
    {
     "name": "stdout",
     "output_type": "stream",
     "text": [
      "1.0\n",
      "[2. 0. 0. ... 0. 0. 0.]\n"
     ]
    }
   ],
   "source": [
    "print(p[0,1]) # Prints the second value of first array\n",
    "print(p[:,0]) # Prints the first value of all the arrays"
   ]
  },
  {
   "cell_type": "markdown",
   "id": "186a80f8",
   "metadata": {
    "editable": true
   },
   "source": [
    "Then try running this cell. Notice how it gives an error since we did not implement a third dimension into our arrays"
   ]
  },
  {
   "cell_type": "code",
   "execution_count": 10,
   "id": "e179da87",
   "metadata": {
    "collapsed": false,
    "editable": true
   },
   "outputs": [],
   "source": [
    "#print(p[:,2])"
   ]
  },
  {
   "cell_type": "markdown",
   "id": "4230200a",
   "metadata": {
    "editable": true
   },
   "source": [
    "In the cell below we want to manipulate the arrays.\n",
    "In this example we make each vector's $x$ component valued the same as their respective vector's position in the iteration and the $y$ value will be twice that value, except for  the first vector, which we have already set. \n",
    "That is we have $p[0] = [2,1], p[1] = [1,2], p[2] = [2,4], p[3] = [3,6], ...$\n",
    "\n",
    "Here we set up an array for $x$ and $y$ values."
   ]
  },
  {
   "cell_type": "code",
   "execution_count": 14,
   "id": "2de67055",
   "metadata": {
    "collapsed": false,
    "editable": true
   },
   "outputs": [
    {
     "name": "stdout",
     "output_type": "stream",
     "text": [
      "Success!\n"
     ]
    }
   ],
   "source": [
    "for i in range(1,3999):\n",
    "    p[i] = [i,2*i]\n",
    "# Checker cell to make sure your code is performing correctly\n",
    "c = 0\n",
    "for i in range(0,3999):\n",
    "    if i == 0:\n",
    "        if p[i,0] != 2.0:\n",
    "            c += 1\n",
    "        if p[i,1] != 1.0:\n",
    "            c += 1\n",
    "    else:\n",
    "        if p[i,0] != 1.0*i:\n",
    "            c += 1\n",
    "        if p[i,1] != 2.0*i:\n",
    "            c += 1\n",
    "\n",
    "if c == 0:\n",
    "    print(\"Success!\")\n",
    "else:\n",
    "    print(\"There is an error in your code\")"
   ]
  },
  {
   "cell_type": "markdown",
   "id": "b0c3dcc9",
   "metadata": {
    "editable": true
   },
   "source": [
    "You could also think of an alternative way of storing the above information. Feel free to explore how to store\n",
    "multidimensional objects. \n",
    "\n",
    "Last week we studied Usain Bolt's 100m run and in class we studied a falling baseball. We made basic plots of the baseball\n",
    "moving in one dimension. This week we will be working with a three-dimensional variant. This will be useful for our next homeworks and numerical projects. \n",
    "\n",
    "Assume we have a soccer ball moving in three dimensions with the following trajectory:\n",
    "\n",
    "$$x(t) = 10t\\cos{45^{\\circ}}$$\n",
    "\n",
    "$$y(t) = 10t\\sin{45^{\\circ}}$$\n",
    "\n",
    "$$z(t) = 10t-\\dfrac{9.81}{2}t^2$$\n",
    "\n",
    "Now let us create a three-dimensional (3D) plot using these equations. In the cell below\n",
    "we write the equations into their respective labels. We fix a final time in the code below.\n",
    "\n",
    "Important Concept: Numpy comes with many mathematical packages, some\n",
    "of them being the trigonometric functions sine, cosine, tangent. We\n",
    "are going to utilize these this week. Additionally, these functions\n",
    "work with radians, so we will also be using a function from Numpy that\n",
    "converts degrees to radians."
   ]
  },
  {
   "cell_type": "code",
   "execution_count": 11,
   "id": "1c8b1eea",
   "metadata": {
    "collapsed": false,
    "editable": true
   },
   "outputs": [],
   "source": [
    "tf = 2.04  # The final time to be evaluated\n",
    "dt = 0.1  # The time step size\n",
    "t = np.arange(0,tf,dt) # The time array\n",
    "theta_deg = 45 # Degrees\n",
    "theta_rad = np.radians(theta_deg) # Converts degrees to their radian counterparts\n",
    "x = 10*t*np.cos(theta_rad) # Equation for our x component, utilizing np.cos() and our calculated radians\n",
    "y = 10*t*np.sin(theta_rad) # Put the y equation here\n",
    "z = 10*t-9.81/2*t**2# Put the z equation here"
   ]
  },
  {
   "cell_type": "markdown",
   "id": "023115d1",
   "metadata": {
    "editable": true
   },
   "source": [
    "Then we plot it"
   ]
  },
  {
   "cell_type": "code",
   "execution_count": 16,
   "id": "0b28f0ff",
   "metadata": {
    "collapsed": false,
    "editable": true
   },
   "outputs": [
    {
     "data": {
      "text/plain": [
       "<mpl_toolkits.mplot3d.art3d.Path3DCollection at 0x118aa4740>"
      ]
     },
     "execution_count": 16,
     "metadata": {},
     "output_type": "execute_result"
    }
   ],
   "source": [
    "## Once you have entered the proper equations in the cell above, run this cell to plot in 3D\n",
    "fig = plt.axes(projection='3d')\n",
    "fig.set_xlabel('x')\n",
    "fig.set_ylabel('y')\n",
    "fig.set_zlabel('z')\n",
    "fig.scatter(x,y,z)"
   ]
  },
  {
   "cell_type": "markdown",
   "id": "5e9eefd9",
   "metadata": {
    "editable": true
   },
   "source": [
    "* 6a (8pt) How would you express $x(t)$, $y(t)$, $z(t)$ for this problem as a single vector, $\\boldsymbol{r}(t)$?\n",
    "\n",
    "Then run the code and plot using the array $r$"
   ]
  },
  {
   "cell_type": "code",
   "execution_count": 17,
   "id": "324b7203",
   "metadata": {
    "collapsed": false,
    "editable": true
   },
   "outputs": [],
   "source": [
    "## Run this code to plot using our r array \n",
    "# fig = plt.axes(projection='3d')\n",
    "# fig.set_xlabel('x')\n",
    "# fig.set_ylabel('y')\n",
    "# fig.set_zlabel('z')\n",
    "# fig.scatter(r[0],r[1],r[2])"
   ]
  },
  {
   "cell_type": "markdown",
   "id": "e293cbee",
   "metadata": {
    "editable": true
   },
   "source": [
    "* 6b (8pt) What do you think the benefits and/or disadvantages are from expressing our three equations as a single array/vector? This can be both from a computational and physics stand point. Use the **Numpy** package to also print the maximum $x$, $y$ and $z$ components from $\\boldsymbol{r}$.\n",
    "\n",
    "Complete Exercise 4 above (Taylor exercise 1.35) before moving further. (Recall that the golf ball was hit due east at an angle $\\theta$ with respect to the horizontal, and the coordinate directions are $x$ measured east, $y$ north, and $z$ vertically up.)\n",
    "\n",
    "* 6c (8pt) What is the analytical solution for our theoretical golf ball's position $\\boldsymbol{r}(t)$ over time from Exercise 4?  Also what is the formula for the time $t_f$ when the golf ball hits the ground? Use this to develop a program with a function called for example Golfball that utilizes our analytical solutions. This program should take in an initial velocity and the angle $\\theta$ that the golfball was hit with in degrees. It should also produce  a 3D graph of the motion. You need also to find the maximum values for $x$, $y$ and $z$.\n",
    "\n",
    "* 6d (8pt) Given initial values of $v_i = 90 m/s$, $\\theta = 30^{\\circ}$, what would our maximum x, y and z components be? \n",
    "\n",
    "* 6e (8pt) Given initial values of $v_i = 45 m/s$, $\\theta = 45^{\\circ}$, what would our maximum x, y and z components be?"
   ]
  }
 ],
 "metadata": {
  "kernelspec": {
   "display_name": ".venv",
   "language": "python",
   "name": "python3"
  },
  "language_info": {
   "codemirror_mode": {
    "name": "ipython",
    "version": 3
   },
   "file_extension": ".py",
   "mimetype": "text/x-python",
   "name": "python",
   "nbconvert_exporter": "python",
   "pygments_lexer": "ipython3",
   "version": "3.13.5"
  }
 },
 "nbformat": 4,
 "nbformat_minor": 5
}
